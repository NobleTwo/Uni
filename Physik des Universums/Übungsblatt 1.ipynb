{
 "cells": [
  {
   "cell_type": "markdown",
   "metadata": {},
   "source": [
    "# Übungsblatt 1"
   ]
  },
  {
   "cell_type": "code",
   "execution_count": 1,
   "metadata": {
    "collapsed": true
   },
   "outputs": [],
   "source": [
    "import numpy as np\n",
    "\n",
    "from astropy import units as u\n",
    "from astropy import constants as const"
   ]
  },
  {
   "cell_type": "markdown",
   "metadata": {},
   "source": [
    "## Aufgabe 1\n",
    "\n",
    "Berechnen Sie den Winkel,\n",
    "a) den die Sonne von der Erde aus gesehen einnimmt."
   ]
  },
  {
   "cell_type": "code",
   "execution_count": 2,
   "metadata": {
    "collapsed": false
   },
   "outputs": [
    {
     "data": {
      "text/latex": [
       "$0.53274187 \\; \\mathrm{{}^{\\circ}}$"
      ],
      "text/plain": [
       "<Quantity 0.5327418689570139 deg>"
      ]
     },
     "execution_count": 2,
     "metadata": {},
     "output_type": "execute_result"
    }
   ],
   "source": [
    "np.arctan(2 * u.solRad / u.AU).to(u.deg)"
   ]
  },
  {
   "cell_type": "markdown",
   "metadata": {},
   "source": [
    "b) den minimalen und maximalen Winkel, den Mars von der Erde aus gesehen einnimmt.\n",
    "(Hinweis: nehmen Sie vereinfachend einen kreisförmigen Orbit mit Radius 1.52 AE für die\n",
    "Marsbahn an)."
   ]
  },
  {
   "cell_type": "code",
   "execution_count": 3,
   "metadata": {
    "collapsed": false
   },
   "outputs": [
    {
     "data": {
      "text/latex": [
       "$[0.29962277,~0.061826922] \\; \\mathrm{{}^{\\prime}}$"
      ],
      "text/plain": [
       "<Quantity [ 0.29962277, 0.06182692] arcmin>"
      ]
     },
     "execution_count": 3,
     "metadata": {},
     "output_type": "execute_result"
    }
   ],
   "source": [
    "r_mars = 1.52\n",
    "r_erde = 1\n",
    "R_mars = u.Quantity(3390, u.km)\n",
    "dist = np.array([r_mars - r_erde, r_mars + r_erde]) * u.AU\n",
    "np.arctan(2 * R_mars / dist).to(u.arcmin)"
   ]
  },
  {
   "cell_type": "markdown",
   "metadata": {},
   "source": [
    "c) den Winkel, den der Stern Proxima Centauri von der Erde aus gesehen einnimmt. (Hinweis: Der Radius von Proxima Centauri beträgt 0.145 $R_\\odot$ , die Entfernung beträgt 1.3 pc)."
   ]
  },
  {
   "cell_type": "code",
   "execution_count": 4,
   "metadata": {
    "collapsed": false
   },
   "outputs": [
    {
     "data": {
      "text/latex": [
       "$0.0010371256 \\; \\mathrm{{}^{\\prime\\prime}}$"
      ],
      "text/plain": [
       "<Quantity 0.0010371256214450934 arcsec>"
      ]
     },
     "execution_count": 4,
     "metadata": {},
     "output_type": "execute_result"
    }
   ],
   "source": [
    "R_proxcen = 0.145 * u.solRad\n",
    "r_proxcen = u.Quantity(1.3, u.pc)\n",
    "np.arctan(2*R_proxcen / r_proxcen).to(u.arcsec)"
   ]
  },
  {
   "cell_type": "markdown",
   "metadata": {},
   "source": [
    "d) den Winkel, den ein erd-großer Planet von Proxima Centauri von der Erde aus gesehen\n",
    "einnimmt."
   ]
  },
  {
   "cell_type": "code",
   "execution_count": 16,
   "metadata": {
    "collapsed": false
   },
   "outputs": [
    {
     "data": {
      "text/latex": [
       "$6.5592624 \\times 10^{-5} \\; \\mathrm{{}^{\\prime\\prime}}$"
      ],
      "text/plain": [
       "<Quantity 6.559262426155509e-05 arcsec>"
      ]
     },
     "execution_count": 16,
     "metadata": {},
     "output_type": "execute_result"
    }
   ],
   "source": [
    "np.arctan(2 * u.R_earth / r_proxcen).to(u.arcsec)"
   ]
  },
  {
   "cell_type": "markdown",
   "metadata": {},
   "source": [
    "## Aufgabe 2\n",
    "\n",
    "Berechnen Sie den Raumwinkel (in der Einheit sr),\n",
    "\n",
    "a) den die Sonne von der Erde aus gesehen einnimmt."
   ]
  },
  {
   "cell_type": "code",
   "execution_count": 27,
   "metadata": {
    "collapsed": false
   },
   "outputs": [
    {
     "name": "stdout",
     "output_type": "stream",
     "text": [
      "6.790120725850101e-05\n",
      "67.90524307451639 usr\n"
     ]
    }
   ],
   "source": [
    "alpha = u.Quantity(0.53274187, u.deg)\n",
    "print(2 * np.pi * (1 - np.cos(alpha/2)))\n",
    "print((np.pi * u.solRad**2 / u.AU**2).to(u.usr, \n",
    "                                         equivalencies=u.dimensionless_angles()))"
   ]
  },
  {
   "cell_type": "markdown",
   "metadata": {},
   "source": [
    "b) den die Erde von der Sonne aus gesehen einnimmt."
   ]
  },
  {
   "cell_type": "code",
   "execution_count": 24,
   "metadata": {
    "collapsed": false
   },
   "outputs": [
    {
     "data": {
      "text/latex": [
       "$5.7106639 \\; \\mathrm{nsr}$"
      ],
      "text/plain": [
       "<Quantity 5.710663884228569 nsr>"
      ]
     },
     "execution_count": 24,
     "metadata": {},
     "output_type": "execute_result"
    }
   ],
   "source": [
    "(np.pi * R_earth**2 / u.AU**2).to(u.nsr, \n",
    "                                  equivalencies=u.dimensionless_angles())"
   ]
  },
  {
   "cell_type": "markdown",
   "metadata": {
    "collapsed": true
   },
   "source": [
    "c) den Jupiter von der Sonne aus gesehen einnimmt."
   ]
  },
  {
   "cell_type": "code",
   "execution_count": 7,
   "metadata": {
    "collapsed": false
   },
   "outputs": [
    {
     "name": "stdout",
     "output_type": "stream",
     "text": [
      "71492.0\n"
     ]
    },
    {
     "data": {
      "text/latex": [
       "$26.528065 \\; \\mathrm{nsr}$"
      ],
      "text/plain": [
       "<Quantity 26.52806494534903 nsr>"
      ]
     },
     "execution_count": 7,
     "metadata": {},
     "output_type": "execute_result"
    }
   ],
   "source": [
    "r_jupiter = u.Quantity(778e6, u.km)\n",
    "print(u.jupiterRad.to(u.km))\n",
    "(np.pi * u.jupiterRad**2 / r_jupiter**2).to(u.nsr, \n",
    "                                            equivalencies=u.dimensionless_angles())"
   ]
  },
  {
   "cell_type": "markdown",
   "metadata": {},
   "source": [
    "## Aufgabe 4"
   ]
  },
  {
   "cell_type": "markdown",
   "metadata": {},
   "source": [
    "Mit der Methode der sog. ”Lunar Laser Ranging“ kann die Entfernung zum Mond mit Hilfe\n",
    "eines von der Apollo-Astronauten auf der Mondoberfläche aufgestellten Spiegels extrem ge-\n",
    "nau bestimmt werden. Mit einem Laser wird ein sub-Nanosekunden kurzer Lichtpuls erzeugt,\n",
    "der mit einem Teleskop in Richtung des Spiegels auf dem Mond gerichtet wird. Der Spiegel\n",
    "besteht aus Tripelprismen, welche das ankommende Laserlicht genau in dieselbe Richtung\n",
    "zurückzuwerfen, aus der die Strahlung kommt. Mit dem Teleskop der Basisstation kann dann\n",
    "der reflektierte Strahlungspuls detektiert, und aus der genauen Lichtlaufzeit die Entfernung\n",
    "mit einer Genauigkeit von ca. 3 cm bestimmt werden.\n",
    "Laserlicht lässt sich zwar im Prinzip über große Entfernungen hinweg sehr eng bündeln,\n",
    "dennoch wird der Strahl durch die Moleküle und Partikel in der Erdatmosphäre aufgeweitet.\n",
    "Beim Austritt aus der Erdatmosphäre hat der Strahl daher eine volle Winkelausdehnung von\n",
    "ca. 5 Bogensekunden.\n",
    "\n",
    "a) Berechnen Sie, wie groß der entsprechende Durchmesser des Lichtkegels am Mond damit\n",
    "ist.\n"
   ]
  },
  {
   "cell_type": "code",
   "execution_count": 19,
   "metadata": {
    "collapsed": false
   },
   "outputs": [
    {
     "data": {
      "text/latex": [
       "$9.318119 \\; \\mathrm{km}$"
      ],
      "text/plain": [
       "<Quantity 9.318118952750424 km>"
      ]
     },
     "execution_count": 19,
     "metadata": {},
     "output_type": "execute_result"
    }
   ],
   "source": [
    "alpha = u.Quantity(5, u.arcsec)\n",
    "d = u.Quantity(384400, u.km)\n",
    "d_beam = (np.tan(alpha) * d).to(u.km)\n",
    "d_beam"
   ]
  },
  {
   "cell_type": "markdown",
   "metadata": {},
   "source": [
    "b) Die effektive Gesamtfläche des Spiegels beträgt 1100 cm² ,. Nehmen Sie an, dass in ein\n",
    "Puls aus 1019 Photonen besteht. Wieviele davon treffen gemäß der oben bestimmten Strahl-\n",
    "Aufweitung auf den Spiegel, wenn man noch berücksichtigt, dass 50% der Photonen in der\n",
    "Erdatmosphäre absorbiert oder aus dem Strahl herausgestreut werden?\n"
   ]
  },
  {
   "cell_type": "code",
   "execution_count": 21,
   "metadata": {
    "collapsed": false
   },
   "outputs": [
    {
     "data": {
      "text/latex": [
       "$8.0652217 \\times 10^{9} \\; \\mathrm{}$"
      ],
      "text/plain": [
       "<Quantity 8065221657.258653>"
      ]
     },
     "execution_count": 21,
     "metadata": {},
     "output_type": "execute_result"
    }
   ],
   "source": [
    "a_mirror = u.Quantity(1100, u.cm**2)\n",
    "n_phot = 1e19\n",
    "transmission = 0.5\n",
    "n_mirror = n_phot * transmission * a_mirror/(np.pi * (d_beam/2)**2)\n",
    "n_mirror.decompose()"
   ]
  },
  {
   "cell_type": "markdown",
   "metadata": {},
   "source": [
    "c) Die Reflektivität des Spiegels beträgt etwa 10%. Das von Spiegel zurückreflektierte Licht\n",
    "wird beim Durchlaufen der Erdatmosphäre nochmals aufgeweitet und auf eine Fläche von\n",
    "ca. 200 km² verteilt. Das Teleskop der Basisstation hat einen Durchmesser von 75 cm. Wieviele Photonen aus dem Laserpuls kommen somit beim Teleskop wieder an?\n"
   ]
  },
  {
   "cell_type": "code",
   "execution_count": 14,
   "metadata": {
    "collapsed": false
   },
   "outputs": [
    {
     "data": {
      "text/latex": [
       "$1.7815529 \\; \\mathrm{}$"
      ],
      "text/plain": [
       "<Quantity 1.7815528904074507>"
      ]
     },
     "execution_count": 14,
     "metadata": {},
     "output_type": "execute_result"
    }
   ],
   "source": [
    "albedo = 0.1\n",
    "area_beam = u.Quantity(200, u.km**2)\n",
    "d_tel = u.Quantity(75, u.cm)\n",
    "n_tel = (n_mirror * albedo * np.pi * (d_tel/2)**2 / area_beam).decompose()\n",
    "n_tel"
   ]
  },
  {
   "cell_type": "code",
   "execution_count": null,
   "metadata": {
    "collapsed": true
   },
   "outputs": [],
   "source": []
  }
 ],
 "metadata": {
  "kernelspec": {
   "display_name": "Python 3",
   "language": "python",
   "name": "python3"
  },
  "language_info": {
   "codemirror_mode": {
    "name": "ipython",
    "version": 3
   },
   "file_extension": ".py",
   "mimetype": "text/x-python",
   "name": "python",
   "nbconvert_exporter": "python",
   "pygments_lexer": "ipython3",
   "version": "3.5.1"
  }
 },
 "nbformat": 4,
 "nbformat_minor": 0
}
